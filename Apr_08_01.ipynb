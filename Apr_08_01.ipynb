{
 "cells": [
  {
   "cell_type": "code",
   "execution_count": 1,
   "metadata": {},
   "outputs": [],
   "source": [
    "import re\n",
    "import tqdm\n",
    "import pandas as pd\n",
    "subs=pd.read_csv('./COVID19positive_submissions.csv', low_memory=False)\n",
    "coms=pd.read_csv('./COVID19positive_comments.csv', low_memory=False)"
   ]
  },
  {
   "cell_type": "code",
   "execution_count": 2,
   "metadata": {},
   "outputs": [],
   "source": [
    "def fn(df):\n",
    "  if type(df.selftext)==float:\n",
    "    return df.title\n",
    "  else:\n",
    "    return df.title + ' ' + df.selftext"
   ]
  },
  {
   "cell_type": "code",
   "execution_count": 3,
   "metadata": {},
   "outputs": [],
   "source": [
    "subs['text']=subs.apply(fn, axis=1)\n",
    "coms=coms[coms.body.notna()]"
   ]
  },
  {
   "cell_type": "code",
   "execution_count": 7,
   "metadata": {},
   "outputs": [
    {
     "name": "stderr",
     "output_type": "stream",
     "text": [
      "100%|██████████| 93576/93576 [00:47<00:00, 1950.63it/s]\n",
      "100%|██████████| 993014/993014 [02:01<00:00, 8147.70it/s]\n"
     ]
    }
   ],
   "source": [
    "f=['father', 'dad', 'mother', 'mom', 'brother', 'sister', 'family', 'aunt', 'uncle', 'grand']\n",
    "s=['fever', 'cough', 'nausea', 'vomit', 'headache', 'sore', 'sense', 'smell', 'nose']\n",
    "g=['thank', 'lov', 'pray']\n",
    "r=['recover', 'hop', 'faith', 'rest', 'sleep']\n",
    "\n",
    "pt_f= '\\w*|'.join(f) + '\\w+'\n",
    "pt_s= '\\w*|'.join(s) + '\\w*'\n",
    "pt_g= '\\w*|'.join(g) + '\\w*'\n",
    "pt_r= '\\w*|'.join(r) + '\\w*'\n",
    "\n",
    "posts_family_symptom=[]\n",
    "comments_gratitude_recovery=[]\n",
    "\n",
    "for i, sub in tqdm.tqdm(subs.iterrows(), total=subs.shape[0]):\n",
    "  d={}\n",
    "  m_f = re.findall(pt_f, sub.text, flags=re.IGNORECASE)\n",
    "  m_s = re.findall(pt_s, sub.text, flags=re.IGNORECASE)\n",
    "  d['id']=sub.id\n",
    "  if len(m_f)!=0 & len(m_s)==0:\n",
    "    d['family']=1\n",
    "  if len(m_s)!=0 & len(m_f)==0:\n",
    "    d['symptom']=1\n",
    "  posts_family_symptom.append(d)\n",
    "\n",
    "for i, com in tqdm.tqdm(coms.iterrows(), total=coms.shape[0]):\n",
    "  d={}\n",
    "  m_g = re.findall(pt_g, com.body, flags=re.IGNORECASE)\n",
    "  m_r = re.findall(pt_r, com.body, flags=re.IGNORECASE)\n",
    "  d['id']=com.id\n",
    "  if len(m_g)!=0 & len(m_r)==0:\n",
    "    d['gratitude']=1\n",
    "  if len(m_r)!=0 & len(m_g)==0:\n",
    "    d['recovery']=1\n",
    "  comments_gratitude_recovery.append(d)"
   ]
  },
  {
   "cell_type": "code",
   "execution_count": 8,
   "metadata": {},
   "outputs": [
    {
     "name": "stdout",
     "output_type": "stream",
     "text": [
      "93576 993014\n"
     ]
    },
    {
     "data": {
      "text/plain": [
       "(93576, 993014)"
      ]
     },
     "execution_count": 8,
     "metadata": {},
     "output_type": "execute_result"
    }
   ],
   "source": [
    "df_f_s=pd.DataFrame(posts_family_symptom)\n",
    "df_g_r=pd.DataFrame(comments_gratitude_recovery)\n",
    "print(df_f_s.shape[0], df_g_r.shape[0])\n",
    "df_f_s.id.nunique(), df_g_r.id.nunique()"
   ]
  },
  {
   "cell_type": "code",
   "execution_count": 10,
   "metadata": {},
   "outputs": [
    {
     "data": {
      "text/html": [
       "<div>\n",
       "<style scoped>\n",
       "    .dataframe tbody tr th:only-of-type {\n",
       "        vertical-align: middle;\n",
       "    }\n",
       "\n",
       "    .dataframe tbody tr th {\n",
       "        vertical-align: top;\n",
       "    }\n",
       "\n",
       "    .dataframe thead th {\n",
       "        text-align: right;\n",
       "    }\n",
       "</style>\n",
       "<table border=\"1\" class=\"dataframe\">\n",
       "  <thead>\n",
       "    <tr style=\"text-align: right;\">\n",
       "      <th></th>\n",
       "      <th>id</th>\n",
       "      <th>family</th>\n",
       "      <th>symptom</th>\n",
       "    </tr>\n",
       "  </thead>\n",
       "  <tbody>\n",
       "    <tr>\n",
       "      <th>0</th>\n",
       "      <td>fiag4h</td>\n",
       "      <td>0.0</td>\n",
       "      <td>0.0</td>\n",
       "    </tr>\n",
       "    <tr>\n",
       "      <th>1</th>\n",
       "      <td>fid080</td>\n",
       "      <td>0.0</td>\n",
       "      <td>0.0</td>\n",
       "    </tr>\n",
       "    <tr>\n",
       "      <th>2</th>\n",
       "      <td>fj4l50</td>\n",
       "      <td>0.0</td>\n",
       "      <td>0.0</td>\n",
       "    </tr>\n",
       "    <tr>\n",
       "      <th>3</th>\n",
       "      <td>fj963y</td>\n",
       "      <td>0.0</td>\n",
       "      <td>0.0</td>\n",
       "    </tr>\n",
       "    <tr>\n",
       "      <th>4</th>\n",
       "      <td>fjcfsv</td>\n",
       "      <td>0.0</td>\n",
       "      <td>0.0</td>\n",
       "    </tr>\n",
       "    <tr>\n",
       "      <th>...</th>\n",
       "      <td>...</td>\n",
       "      <td>...</td>\n",
       "      <td>...</td>\n",
       "    </tr>\n",
       "    <tr>\n",
       "      <th>93571</th>\n",
       "      <td>100628x</td>\n",
       "      <td>0.0</td>\n",
       "      <td>1.0</td>\n",
       "    </tr>\n",
       "    <tr>\n",
       "      <th>93572</th>\n",
       "      <td>1006i9z</td>\n",
       "      <td>1.0</td>\n",
       "      <td>1.0</td>\n",
       "    </tr>\n",
       "    <tr>\n",
       "      <th>93573</th>\n",
       "      <td>1006kys</td>\n",
       "      <td>0.0</td>\n",
       "      <td>0.0</td>\n",
       "    </tr>\n",
       "    <tr>\n",
       "      <th>93574</th>\n",
       "      <td>1006n2k</td>\n",
       "      <td>0.0</td>\n",
       "      <td>0.0</td>\n",
       "    </tr>\n",
       "    <tr>\n",
       "      <th>93575</th>\n",
       "      <td>1006nvb</td>\n",
       "      <td>0.0</td>\n",
       "      <td>1.0</td>\n",
       "    </tr>\n",
       "  </tbody>\n",
       "</table>\n",
       "<p>93576 rows × 3 columns</p>\n",
       "</div>"
      ],
      "text/plain": [
       "            id  family  symptom\n",
       "0       fiag4h     0.0      0.0\n",
       "1       fid080     0.0      0.0\n",
       "2       fj4l50     0.0      0.0\n",
       "3       fj963y     0.0      0.0\n",
       "4       fjcfsv     0.0      0.0\n",
       "...        ...     ...      ...\n",
       "93571  100628x     0.0      1.0\n",
       "93572  1006i9z     1.0      1.0\n",
       "93573  1006kys     0.0      0.0\n",
       "93574  1006n2k     0.0      0.0\n",
       "93575  1006nvb     0.0      1.0\n",
       "\n",
       "[93576 rows x 3 columns]"
      ]
     },
     "execution_count": 10,
     "metadata": {},
     "output_type": "execute_result"
    }
   ],
   "source": [
    "df_f_s=df_f_s.fillna(0)\n",
    "df_g_r=df_g_r.fillna(0)"
   ]
  },
  {
   "cell_type": "code",
   "execution_count": 11,
   "metadata": {},
   "outputs": [],
   "source": [
    "df_f_s.to_csv('posts_family_symptom.csv', index=False)\n",
    "df_g_r.to_csv('comments_gratitude_recovery.csv', index=False)"
   ]
  },
  {
   "cell_type": "code",
   "execution_count": null,
   "metadata": {},
   "outputs": [],
   "source": []
  }
 ],
 "metadata": {
  "kernelspec": {
   "display_name": "Python 3",
   "language": "python",
   "name": "python3"
  },
  "language_info": {
   "codemirror_mode": {
    "name": "ipython",
    "version": 3
   },
   "file_extension": ".py",
   "mimetype": "text/x-python",
   "name": "python",
   "nbconvert_exporter": "python",
   "pygments_lexer": "ipython3",
   "version": "3.11.3"
  },
  "orig_nbformat": 4
 },
 "nbformat": 4,
 "nbformat_minor": 2
}
