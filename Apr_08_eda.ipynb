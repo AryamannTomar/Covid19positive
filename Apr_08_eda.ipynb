{
 "cells": [
  {
   "cell_type": "code",
   "execution_count": 18,
   "metadata": {},
   "outputs": [],
   "source": [
    "import pandas as pd\n",
    "subs=pd.read_csv('./COVID19positive_submissions.csv', low_memory=False)\n",
    "coms=pd.read_csv('./COVID19positive_comments.csv', low_memory=False)"
   ]
  },
  {
   "cell_type": "code",
   "execution_count": 19,
   "metadata": {},
   "outputs": [],
   "source": [
    "from datetime import datetime, timedelta\n",
    "subs_set=subs.copy()\n",
    "subs_set=subs_set[['id', 'created_utc']]\n",
    "subs_set['created_at']=subs_set['created_utc'].apply(lambda x: datetime.fromtimestamp(x).strftime('%Y-%m-%d'))\n",
    "coms_set=coms.copy()\n",
    "coms_set=coms_set[['link_id', 'created_utc']]\n",
    "coms_set['created_at']=coms_set['created_utc'].apply(lambda x: datetime.fromtimestamp(x).strftime('%Y-%m-%d'))"
   ]
  },
  {
   "cell_type": "code",
   "execution_count": 20,
   "metadata": {},
   "outputs": [],
   "source": [
    "import matplotlib.pyplot as plt\n",
    "def gen_line_graph(d): \n",
    "    x = list(range(len(d)))\n",
    "    y = list(d.values())\n",
    "    plt.figure(figsize=(14, 4))\n",
    "    ax = plt.axes() \n",
    "    ax.set_facecolor('#e8e8e8')\n",
    "    plt.plot(x, y, marker='o', markersize=4, markeredgecolor='black')\n",
    "    plt.xticks(x, d.keys(), rotation=748)\n",
    "    max_key = y.index(max(y))\n",
    "    plt.axvline(x=max_key, linestyle='--', color='red')\n",
    "    plt.grid(True, color='lightgray', linestyle='--', linewidth=1) \n",
    "    return plt.show"
   ]
  },
  {
   "cell_type": "code",
   "execution_count": 21,
   "metadata": {},
   "outputs": [],
   "source": [
    "import calendar as cld\n",
    "def fn(date_str):\n",
    "    yr=date_str.split('-')[0][2:]\n",
    "    mth=int(date_str.split('-')[1])\n",
    "    return cld.month_name[mth][:3]+' '+yr"
   ]
  },
  {
   "cell_type": "code",
   "execution_count": 22,
   "metadata": {},
   "outputs": [],
   "source": [
    "def gen_str(start_year=2020, start_month=3, end_year=2023, end_month=3):\n",
    "    start_date = datetime(start_year, start_month, 1)\n",
    "    end_date = datetime(end_year, end_month, 1)\n",
    "    l=[]\n",
    "    while start_date <= end_date:\n",
    "        l.append(start_date.strftime('%b %y'))\n",
    "        start_date += timedelta(days=32)\n",
    "        start_date = start_date.replace(day=1)\n",
    "    return l\n",
    "\n",
    "l=gen_str()\n",
    "# d={}\n",
    "d_pos={}\n",
    "# d_com={}\n",
    "for i in l:\n",
    "    # d[i]=0\n",
    "    d_pos[i]=0\n",
    "    # d_com[i]=0"
   ]
  },
  {
   "cell_type": "code",
   "execution_count": 23,
   "metadata": {},
   "outputs": [
    {
     "name": "stderr",
     "output_type": "stream",
     "text": [
      "100%|██████████| 93576/93576 [00:07<00:00, 12244.46it/s]\n"
     ]
    }
   ],
   "source": [
    "import tqdm\n",
    "for i, row in tqdm.tqdm(subs_set.iterrows(), total=subs_set.shape[0]):\n",
    "    d_pos[fn(row['created_at'])]+=1\n",
    "# for i, row in tqdm.tqdm(coms_set.iterrows(), total=coms_set.shape[0]):\n",
    "#     d_com[fn(row['created_at'])]+=1"
   ]
  },
  {
   "cell_type": "code",
   "execution_count": 24,
   "metadata": {},
   "outputs": [],
   "source": [
    "# for i in d_pos.keys():\n",
    "#     d[i]=d_pos[i]+d_com[i]"
   ]
  },
  {
   "cell_type": "code",
   "execution_count": 25,
   "metadata": {},
   "outputs": [],
   "source": [
    "# gen_line_graph(d)"
   ]
  },
  {
   "cell_type": "code",
   "execution_count": 26,
   "metadata": {},
   "outputs": [],
   "source": [
    "# pd.DataFrame(d, index=[0]).to_csv('activity.csv', index=False)"
   ]
  },
  {
   "cell_type": "code",
   "execution_count": 27,
   "metadata": {},
   "outputs": [
    {
     "data": {
      "text/plain": [
       "dict_keys(['Mar 20', 'Apr 20', 'May 20', 'Jun 20', 'Jul 20', 'Aug 20', 'Sep 20', 'Oct 20', 'Nov 20', 'Dec 20', 'Jan 21', 'Feb 21', 'Mar 21', 'Apr 21', 'May 21', 'Jun 21', 'Jul 21', 'Aug 21', 'Sep 21', 'Oct 21', 'Nov 21', 'Dec 21', 'Jan 22', 'Feb 22', 'Mar 22', 'Apr 22', 'May 22', 'Jun 22', 'Jul 22', 'Aug 22', 'Sep 22', 'Oct 22', 'Nov 22', 'Dec 22', 'Jan 23', 'Feb 23', 'Mar 23'])"
      ]
     },
     "execution_count": 27,
     "metadata": {},
     "output_type": "execute_result"
    }
   ],
   "source": [
    "d_pos.keys()"
   ]
  },
  {
   "cell_type": "code",
   "execution_count": 28,
   "metadata": {},
   "outputs": [],
   "source": [
    "df=pd.read_csv('AfterOct22.csv')\n",
    "df['created_at']=df['created'].apply(lambda x: datetime.fromtimestamp(x).strftime('%Y-%m-%d'))\n",
    "df=df[['id', 'created_at']]"
   ]
  },
  {
   "cell_type": "code",
   "execution_count": 29,
   "metadata": {},
   "outputs": [],
   "source": [
    "for i, row in df.iterrows():\n",
    "    d_pos[fn(row['created_at'])]+=1"
   ]
  },
  {
   "cell_type": "code",
   "execution_count": 31,
   "metadata": {},
   "outputs": [],
   "source": [
    "pd.DataFrame(d_pos, index=[0]).to_csv('activity.csv', index=False)"
   ]
  },
  {
   "cell_type": "code",
   "execution_count": null,
   "metadata": {},
   "outputs": [],
   "source": []
  }
 ],
 "metadata": {
  "kernelspec": {
   "display_name": "Python 3",
   "language": "python",
   "name": "python3"
  },
  "language_info": {
   "codemirror_mode": {
    "name": "ipython",
    "version": 3
   },
   "file_extension": ".py",
   "mimetype": "text/x-python",
   "name": "python",
   "nbconvert_exporter": "python",
   "pygments_lexer": "ipython3",
   "version": "3.11.3"
  },
  "orig_nbformat": 4
 },
 "nbformat": 4,
 "nbformat_minor": 2
}
