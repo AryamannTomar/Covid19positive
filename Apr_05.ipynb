{
 "cells": [
  {
   "cell_type": "code",
   "execution_count": 2,
   "id": "8e82d041",
   "metadata": {},
   "outputs": [],
   "source": [
    "import pandas as pd\n",
    "df=pd.read_csv('COVID19positive_submissions.csv', low_memory=False)"
   ]
  },
  {
   "cell_type": "code",
   "execution_count": 7,
   "id": "da9cda3b",
   "metadata": {},
   "outputs": [
    {
     "data": {
      "text/plain": [
       "Index(['all_awardings', 'allow_live_comments', 'archived', 'author',\n",
       "       'author_created_utc', 'author_flair_background_color',\n",
       "       'author_flair_css_class', 'author_flair_richtext',\n",
       "       'author_flair_template_id', 'author_flair_text',\n",
       "       'author_flair_text_color', 'author_flair_type', 'author_fullname',\n",
       "       'author_patreon_flair', 'author_premium', 'awarders', 'can_gild',\n",
       "       'can_mod_post', 'category', 'content_categories', 'contest_mode',\n",
       "       'created_utc', 'discussion_type', 'distinguished', 'domain', 'edited',\n",
       "       'gilded', 'gildings', 'hidden', 'id', 'is_crosspostable', 'is_meta',\n",
       "       'is_original_content', 'is_reddit_media_domain', 'is_robot_indexable',\n",
       "       'is_self', 'is_video', 'link_flair_background_color',\n",
       "       'link_flair_css_class', 'link_flair_richtext', 'link_flair_text',\n",
       "       'link_flair_text_color', 'link_flair_type', 'locked', 'media',\n",
       "       'media_embed', 'media_only', 'no_follow', 'num_comments',\n",
       "       'num_crossposts', 'over_18', 'parent_whitelist_status', 'permalink',\n",
       "       'pinned', 'pwls', 'quarantine', 'removal_reason', 'removed_by',\n",
       "       'removed_by_category', 'retrieved_on', 'score', 'secure_media',\n",
       "       'secure_media_embed', 'selftext', 'send_replies', 'spoiler', 'stickied',\n",
       "       'subreddit', 'subreddit_id', 'subreddit_name_prefixed',\n",
       "       'subreddit_subscribers', 'subreddit_type', 'suggested_sort',\n",
       "       'thumbnail', 'thumbnail_height', 'thumbnail_width', 'title',\n",
       "       'total_awards_received', 'treatment_tags', 'url', 'whitelist_status',\n",
       "       'wls', 'post_hint', 'preview', 'link_flair_template_id',\n",
       "       'crosspost_parent', 'crosspost_parent_list', 'author_cakeday',\n",
       "       'poll_data', 'upvote_ratio', 'hide_score', 'is_created_from_ads_ui',\n",
       "       'name', 'retrieved_utc', 'top_awarded_type', 'url_overridden_by_dest',\n",
       "       'banned_by', 'view_count', 'call_to_action'],\n",
       "      dtype='object')"
      ]
     },
     "execution_count": 7,
     "metadata": {},
     "output_type": "execute_result"
    }
   ],
   "source": [
    "df.columns"
   ]
  },
  {
   "cell_type": "code",
   "execution_count": 37,
   "id": "6523cc33",
   "metadata": {},
   "outputs": [],
   "source": [
    "# d={}\n",
    "# for i in df[df['link_flair_text'].notna()]['link_flair_text']:\n",
    "#     if i in d.keys():\n",
    "#         d[i]+=1\n",
    "#     else:\n",
    "#         d[i]=1\n",
    "# d = dict(sorted(d.items(), key=lambda item: -item[1]))\n",
    "# d1 = dict(list(d.items())[:10])\n",
    "\n",
    "# names = list(d1.keys())\n",
    "# values = list(d1.values())\n",
    "# fig = plt.figure(figsize = (17, 4))\n",
    "# plt.bar(range(len(d1)), values, tick_label=names)"
   ]
  },
  {
   "cell_type": "code",
   "execution_count": 64,
   "id": "76b41f67",
   "metadata": {},
   "outputs": [
    {
     "data": {
      "text/plain": [
       "Tested Positive - Me                     26975\n",
       "Question-to those who tested positive    20709\n",
       "Tested Positive - Family                  7452\n",
       "Question to those who tested positive     4730\n",
       "Tested Positive                           4219\n",
       "Question-for medical research             2643\n",
       "Tested Positive - Friends                 1575\n",
       "Question                                    78\n",
       "Name: link_flair_text, dtype: int64"
      ]
     },
     "execution_count": 64,
     "metadata": {},
     "output_type": "execute_result"
    }
   ],
   "source": [
    "df[df['link_flair_text'].isin(['Tested Positive', 'Tested Positive - Me', 'Tested Positive - Family', 'Tested Positive - Friends', 'Question', 'Question-to those who tested positive', 'Question to those who tested positive', 'Question-for medical research'])]['link_flair_text'].value_counts()"
   ]
  },
  {
   "cell_type": "code",
   "execution_count": null,
   "id": "500ede45",
   "metadata": {},
   "outputs": [],
   "source": []
  },
  {
   "cell_type": "code",
   "execution_count": null,
   "id": "2d486fd0",
   "metadata": {},
   "outputs": [],
   "source": []
  }
 ],
 "metadata": {
  "kernelspec": {
   "display_name": "Python 3 (ipykernel)",
   "language": "python",
   "name": "python3"
  },
  "language_info": {
   "codemirror_mode": {
    "name": "ipython",
    "version": 3
   },
   "file_extension": ".py",
   "mimetype": "text/x-python",
   "name": "python",
   "nbconvert_exporter": "python",
   "pygments_lexer": "ipython3",
   "version": "3.11.2"
  }
 },
 "nbformat": 4,
 "nbformat_minor": 5
}
