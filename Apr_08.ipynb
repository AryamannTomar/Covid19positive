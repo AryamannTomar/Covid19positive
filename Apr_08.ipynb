{
 "cells": [
  {
   "cell_type": "code",
   "execution_count": 2,
   "metadata": {},
   "outputs": [],
   "source": [
    "import pandas as pd\n",
    "subs=pd.read_csv('./COVID19positive_submissions.csv', low_memory=False)\n",
    "coms=pd.read_csv('./COVID19positive_comments.csv', low_memory=False)"
   ]
  },
  {
   "cell_type": "code",
   "execution_count": 3,
   "id": "3412b41f",
   "metadata": {},
   "outputs": [],
   "source": [
    "def fn(df):\n",
    "  if type(df.selftext)==float:\n",
    "    return df.title\n",
    "  else:\n",
    "    return df.title + ' ' + df.selftext"
   ]
  },
  {
   "cell_type": "code",
   "execution_count": 4,
   "id": "5bd1e546",
   "metadata": {},
   "outputs": [],
   "source": [
    "subs['text']=subs.apply(fn, axis=1)\n",
    "subs=subs[subs.link_flair_text.notna()]\n",
    "coms=coms[coms.body.notna()]\n",
    "coms=coms[~coms.body.isin(['[deleted]', '[removed]'])]"
   ]
  },
  {
   "cell_type": "code",
   "execution_count": 5,
   "id": "d547c33e",
   "metadata": {},
   "outputs": [
    {
     "name": "stderr",
     "output_type": "stream",
     "text": [
      "C:\\Users\\Aryam\\AppData\\Local\\Temp\\ipykernel_6392\\2613840530.py:3: SettingWithCopyWarning: \n",
      "A value is trying to be set on a copy of a slice from a DataFrame.\n",
      "Try using .loc[row_indexer,col_indexer] = value instead\n",
      "\n",
      "See the caveats in the documentation: https://pandas.pydata.org/pandas-docs/stable/user_guide/indexing.html#returning-a-view-versus-a-copy\n",
      "  coms_set['link_id']=coms_set['link_id'].apply(lambda x: x[3:])\n"
     ]
    }
   ],
   "source": [
    "subs_set=subs[['id', 'text', 'link_flair_text']]\n",
    "coms_set=coms[['id', 'link_id', 'body']]\n",
    "coms_set['link_id']=coms_set['link_id'].apply(lambda x: x[3:])"
   ]
  },
  {
   "cell_type": "code",
   "execution_count": 6,
   "id": "2b369590",
   "metadata": {},
   "outputs": [
    {
     "data": {
      "text/html": [
       "<div>\n",
       "<style scoped>\n",
       "    .dataframe tbody tr th:only-of-type {\n",
       "        vertical-align: middle;\n",
       "    }\n",
       "\n",
       "    .dataframe tbody tr th {\n",
       "        vertical-align: top;\n",
       "    }\n",
       "\n",
       "    .dataframe thead th {\n",
       "        text-align: right;\n",
       "    }\n",
       "</style>\n",
       "<table border=\"1\" class=\"dataframe\">\n",
       "  <thead>\n",
       "    <tr style=\"text-align: right;\">\n",
       "      <th></th>\n",
       "      <th>id_x</th>\n",
       "      <th>text</th>\n",
       "      <th>link_flair_text</th>\n",
       "      <th>id_y</th>\n",
       "      <th>link_id</th>\n",
       "      <th>body</th>\n",
       "    </tr>\n",
       "  </thead>\n",
       "  <tbody>\n",
       "    <tr>\n",
       "      <th>0</th>\n",
       "      <td>fk5vnd</td>\n",
       "      <td>Co-worker got back from Traveling. Didn't get ...</td>\n",
       "      <td>Removed: Not Positive</td>\n",
       "      <td>fkqw3uu</td>\n",
       "      <td>fk5vnd</td>\n",
       "      <td>Not necessarily. Florida isn't a at risk regio...</td>\n",
       "    </tr>\n",
       "    <tr>\n",
       "      <th>1</th>\n",
       "      <td>fk5vnd</td>\n",
       "      <td>Co-worker got back from Traveling. Didn't get ...</td>\n",
       "      <td>Removed: Not Positive</td>\n",
       "      <td>fkr2wb0</td>\n",
       "      <td>fk5vnd</td>\n",
       "      <td>I’m very surprised that they didn’t quarantine...</td>\n",
       "    </tr>\n",
       "    <tr>\n",
       "      <th>2</th>\n",
       "      <td>fk5vnd</td>\n",
       "      <td>Co-worker got back from Traveling. Didn't get ...</td>\n",
       "      <td>Removed: Not Positive</td>\n",
       "      <td>fks3x8l</td>\n",
       "      <td>fk5vnd</td>\n",
       "      <td>What Cruise line did you go on and to where? M...</td>\n",
       "    </tr>\n",
       "  </tbody>\n",
       "</table>\n",
       "</div>"
      ],
      "text/plain": [
       "     id_x                                               text   \n",
       "0  fk5vnd  Co-worker got back from Traveling. Didn't get ...  \\\n",
       "1  fk5vnd  Co-worker got back from Traveling. Didn't get ...   \n",
       "2  fk5vnd  Co-worker got back from Traveling. Didn't get ...   \n",
       "\n",
       "         link_flair_text     id_y link_id   \n",
       "0  Removed: Not Positive  fkqw3uu  fk5vnd  \\\n",
       "1  Removed: Not Positive  fkr2wb0  fk5vnd   \n",
       "2  Removed: Not Positive  fks3x8l  fk5vnd   \n",
       "\n",
       "                                                body  \n",
       "0  Not necessarily. Florida isn't a at risk regio...  \n",
       "1  I’m very surprised that they didn’t quarantine...  \n",
       "2  What Cruise line did you go on and to where? M...  "
      ]
     },
     "execution_count": 6,
     "metadata": {},
     "output_type": "execute_result"
    }
   ],
   "source": [
    "df=subs_set.merge(coms_set, left_on='id', right_on='link_id', how='inner')\n",
    "df.head(3)"
   ]
  },
  {
   "cell_type": "code",
   "execution_count": 7,
   "id": "8b0d373f",
   "metadata": {},
   "outputs": [],
   "source": [
    "# emo=[]\n",
    "# info=[]\n",
    "# l=df['link_flair_text'].unique()\n",
    "# for i in l:\n",
    "#     i=i.lower()\n",
    "#     if 'question' in i or 'research' in i:\n",
    "#         info.append(i)\n",
    "#     elif 'tested' in i:\n",
    "#         emo.append(i)\n",
    "emo=['tested positive - family',\n",
    " 'tested positive - me',\n",
    " 'tested positive - friends',\n",
    " 'tested positive',\n",
    " 'vaccine- tested positive',\n",
    " 'tested positive- long hauler',\n",
    " 'tested positive - breakthrough',\n",
    " 'tested positive - unvaccinated',\n",
    " 'tested positive - long-hauler']\n",
    "info=['question',\n",
    " 'question-to those who tested positive',\n",
    " 'question-for medical research',\n",
    " 'medical question',\n",
    " 'verified research',\n",
    " 'question- medical',\n",
    " 'question to those who tested positive',\n",
    " 'research study']"
   ]
  },
  {
   "cell_type": "code",
   "execution_count": 8,
   "id": "77b261c1",
   "metadata": {},
   "outputs": [
    {
     "data": {
      "text/plain": [
       "(30393, 44967, 255185, 466944)"
      ]
     },
     "execution_count": 8,
     "metadata": {},
     "output_type": "execute_result"
    }
   ],
   "source": [
    "supp_seek_info=subs[subs.link_flair_text.str.lower().isin(info)]['text'].tolist()\n",
    "supp_seek_emo=subs[subs.link_flair_text.str.lower().isin(emo)]['text'].tolist()\n",
    "supp_give_info=df[df.link_flair_text.str.lower().isin(info)]['body'].tolist()\n",
    "supp_give_emo=df[df.link_flair_text.str.lower().isin(emo)]['body'].tolist()\n",
    "len(supp_seek_info), len(supp_seek_emo), len(supp_give_info), len(supp_give_emo)"
   ]
  },
  {
   "cell_type": "code",
   "execution_count": 9,
   "id": "546920a1",
   "metadata": {},
   "outputs": [],
   "source": [
    "# import pickle\n",
    "# with open('supp_seek_info.pkl', 'wb') as f:\n",
    "#   pickle.dump(supp_seek_info, f)\n",
    "# with open('supp_seek_emo.pkl', 'wb') as f:\n",
    "#   pickle.dump(supp_seek_emo, f)\n",
    "# with open('supp_give_info.pkl', 'wb') as f:\n",
    "#   pickle.dump(supp_give_info, f)\n",
    "# with open('supp_give_emo.pkl', 'wb') as f:\n",
    "#   pickle.dump(supp_give_emo, f)\n",
    "\n",
    "# filename = 'supp_give_emo.pkl'\n",
    "# with open(filename, 'rb') as f:\n",
    "#     texts = pickle.load(f)"
   ]
  },
  {
   "cell_type": "code",
   "execution_count": 10,
   "id": "4582350c",
   "metadata": {},
   "outputs": [],
   "source": [
    "# import json\n",
    "# with open('supp_give_info.json', 'w', encoding='utf-8') as f:\n",
    "#     json.dump(supp_give_info, f)"
   ]
  },
  {
   "cell_type": "code",
   "execution_count": 11,
   "id": "ec7e1d52",
   "metadata": {},
   "outputs": [],
   "source": [
    "pd.DataFrame(supp_seek_info).to_csv('supp_seek_info.csv', encoding = 'utf-8-sig', index=False)\n",
    "pd.DataFrame(supp_seek_emo).to_csv('supp_seek_emo.csv', encoding = 'utf-8-sig', index=False)\n",
    "pd.DataFrame(supp_give_info).to_csv('supp_give_info.csv', encoding = 'utf-8-sig', index=False)\n",
    "pd.DataFrame(supp_give_emo).to_csv('supp_give_emo.csv', encoding = 'utf-8-sig', index=False)"
   ]
  },
  {
   "cell_type": "code",
   "execution_count": null,
   "id": "253e6b63",
   "metadata": {},
   "outputs": [],
   "source": []
  }
 ],
 "metadata": {
  "kernelspec": {
   "display_name": "Python 3",
   "language": "python",
   "name": "python3"
  },
  "language_info": {
   "codemirror_mode": {
    "name": "ipython",
    "version": 3
   },
   "file_extension": ".py",
   "mimetype": "text/x-python",
   "name": "python",
   "nbconvert_exporter": "python",
   "pygments_lexer": "ipython3",
   "version": "3.11.3"
  }
 },
 "nbformat": 4,
 "nbformat_minor": 5
}
