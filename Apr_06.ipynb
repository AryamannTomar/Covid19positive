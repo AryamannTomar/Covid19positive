{
 "cells": [
  {
   "cell_type": "code",
   "execution_count": 82,
   "metadata": {},
   "outputs": [
    {
     "data": {
      "text/plain": [
       "(93576, 99)"
      ]
     },
     "execution_count": 82,
     "metadata": {},
     "output_type": "execute_result"
    }
   ],
   "source": [
    "import pandas as pd\n",
    "df=pd.read_csv('./COVID19positive_submissions.csv', low_memory=False)\n",
    "df.shape"
   ]
  },
  {
   "cell_type": "code",
   "execution_count": 83,
   "metadata": {},
   "outputs": [],
   "source": [
    "df=df[~df.selftext.isin(['[deleted]', '[removed]'])]\n",
    "df=df[df.selftext.notna()]\n"
   ]
  },
  {
   "cell_type": "code",
   "execution_count": 84,
   "metadata": {},
   "outputs": [
    {
     "data": {
      "text/plain": [
       "(60180, 99)"
      ]
     },
     "execution_count": 84,
     "metadata": {},
     "output_type": "execute_result"
    }
   ],
   "source": [
    "df=df[~df.selftext.str.contains('As per the rules|Title')]\n",
    "df.shape"
   ]
  },
  {
   "cell_type": "code",
   "execution_count": 89,
   "metadata": {},
   "outputs": [],
   "source": [
    "df1=df.copy()\n",
    "df1['text']=df1['title']+' '+df1['selftext']\n",
    "df1['created']=df1.created_utc.apply(lambda x: pd.to_datetime(x, unit='s').strftime('%Y-%m-%d'))\n",
    "df1=df1[['author', 'link_flair_text', 'text', 'created']]"
   ]
  },
  {
   "cell_type": "code",
   "execution_count": 90,
   "metadata": {},
   "outputs": [
    {
     "data": {
      "text/html": [
       "<div>\n",
       "<style scoped>\n",
       "    .dataframe tbody tr th:only-of-type {\n",
       "        vertical-align: middle;\n",
       "    }\n",
       "\n",
       "    .dataframe tbody tr th {\n",
       "        vertical-align: top;\n",
       "    }\n",
       "\n",
       "    .dataframe thead th {\n",
       "        text-align: right;\n",
       "    }\n",
       "</style>\n",
       "<table border=\"1\" class=\"dataframe\">\n",
       "  <thead>\n",
       "    <tr style=\"text-align: right;\">\n",
       "      <th></th>\n",
       "      <th>author</th>\n",
       "      <th>link_flair_text</th>\n",
       "      <th>text</th>\n",
       "      <th>created</th>\n",
       "    </tr>\n",
       "  </thead>\n",
       "  <tbody>\n",
       "    <tr>\n",
       "      <th>0</th>\n",
       "      <td>the1andonlyjoja</td>\n",
       "      <td>NaN</td>\n",
       "      <td>I am constantly seeing people asking about peo...</td>\n",
       "      <td>2020-03-14</td>\n",
       "    </tr>\n",
       "    <tr>\n",
       "      <th>6</th>\n",
       "      <td>theraceison69</td>\n",
       "      <td>NaN</td>\n",
       "      <td>No idea if it’s just allergies / crazy family ...</td>\n",
       "      <td>2020-03-16</td>\n",
       "    </tr>\n",
       "  </tbody>\n",
       "</table>\n",
       "</div>"
      ],
      "text/plain": [
       "            author link_flair_text   \n",
       "0  the1andonlyjoja             NaN  \\\n",
       "6    theraceison69             NaN   \n",
       "\n",
       "                                                text     created  \n",
       "0  I am constantly seeing people asking about peo...  2020-03-14  \n",
       "6  No idea if it’s just allergies / crazy family ...  2020-03-16  "
      ]
     },
     "execution_count": 90,
     "metadata": {},
     "output_type": "execute_result"
    }
   ],
   "source": [
    "df1.head(2)"
   ]
  },
  {
   "cell_type": "code",
   "execution_count": 91,
   "metadata": {},
   "outputs": [
    {
     "data": {
      "text/html": [
       "<div>\n",
       "<style scoped>\n",
       "    .dataframe tbody tr th:only-of-type {\n",
       "        vertical-align: middle;\n",
       "    }\n",
       "\n",
       "    .dataframe tbody tr th {\n",
       "        vertical-align: top;\n",
       "    }\n",
       "\n",
       "    .dataframe thead th {\n",
       "        text-align: right;\n",
       "    }\n",
       "</style>\n",
       "<table border=\"1\" class=\"dataframe\">\n",
       "  <thead>\n",
       "    <tr style=\"text-align: right;\">\n",
       "      <th></th>\n",
       "      <th>author</th>\n",
       "      <th>link_flair_text</th>\n",
       "      <th>text</th>\n",
       "      <th>created</th>\n",
       "      <th>created_occ</th>\n",
       "    </tr>\n",
       "  </thead>\n",
       "  <tbody>\n",
       "    <tr>\n",
       "      <th>0</th>\n",
       "      <td>the1andonlyjoja</td>\n",
       "      <td>NaN</td>\n",
       "      <td>I am constantly seeing people asking about peo...</td>\n",
       "      <td>2020-03-14</td>\n",
       "      <td>[2020-03-14, 2020-03-19, 2020-03-26, 2020-04-1...</td>\n",
       "    </tr>\n",
       "    <tr>\n",
       "      <th>94</th>\n",
       "      <td>the1andonlyjoja</td>\n",
       "      <td>Announcement</td>\n",
       "      <td>A message from the mod team. We are ironing ou...</td>\n",
       "      <td>2020-03-19</td>\n",
       "      <td>[2020-03-14, 2020-03-19, 2020-03-26, 2020-04-1...</td>\n",
       "    </tr>\n",
       "  </tbody>\n",
       "</table>\n",
       "</div>"
      ],
      "text/plain": [
       "             author link_flair_text   \n",
       "0   the1andonlyjoja             NaN  \\\n",
       "94  the1andonlyjoja    Announcement   \n",
       "\n",
       "                                                 text     created   \n",
       "0   I am constantly seeing people asking about peo...  2020-03-14  \\\n",
       "94  A message from the mod team. We are ironing ou...  2020-03-19   \n",
       "\n",
       "                                          created_occ  \n",
       "0   [2020-03-14, 2020-03-19, 2020-03-26, 2020-04-1...  \n",
       "94  [2020-03-14, 2020-03-19, 2020-03-26, 2020-04-1...  "
      ]
     },
     "execution_count": 91,
     "metadata": {},
     "output_type": "execute_result"
    }
   ],
   "source": [
    "grouped = df1.groupby('author').agg({'created': lambda x: list(x)})\n",
    "df1 = df1.merge(grouped, left_on='author', right_index=True, suffixes=['', '_occ'])\n",
    "df1.head(2)"
   ]
  },
  {
   "cell_type": "code",
   "execution_count": 92,
   "metadata": {},
   "outputs": [
    {
     "data": {
      "text/html": [
       "<div>\n",
       "<style scoped>\n",
       "    .dataframe tbody tr th:only-of-type {\n",
       "        vertical-align: middle;\n",
       "    }\n",
       "\n",
       "    .dataframe tbody tr th {\n",
       "        vertical-align: top;\n",
       "    }\n",
       "\n",
       "    .dataframe thead th {\n",
       "        text-align: right;\n",
       "    }\n",
       "</style>\n",
       "<table border=\"1\" class=\"dataframe\">\n",
       "  <thead>\n",
       "    <tr style=\"text-align: right;\">\n",
       "      <th></th>\n",
       "      <th>author</th>\n",
       "      <th>link_flair_text</th>\n",
       "      <th>text</th>\n",
       "      <th>created</th>\n",
       "      <th>created_occ</th>\n",
       "      <th>created_occ_len</th>\n",
       "    </tr>\n",
       "  </thead>\n",
       "  <tbody>\n",
       "    <tr>\n",
       "      <th>0</th>\n",
       "      <td>the1andonlyjoja</td>\n",
       "      <td>NaN</td>\n",
       "      <td>I am constantly seeing people asking about peo...</td>\n",
       "      <td>2020-03-14</td>\n",
       "      <td>[2020-03-14, 2020-03-19, 2020-03-26, 2020-04-1...</td>\n",
       "      <td>5</td>\n",
       "    </tr>\n",
       "    <tr>\n",
       "      <th>94</th>\n",
       "      <td>the1andonlyjoja</td>\n",
       "      <td>Announcement</td>\n",
       "      <td>A message from the mod team. We are ironing ou...</td>\n",
       "      <td>2020-03-19</td>\n",
       "      <td>[2020-03-14, 2020-03-19, 2020-03-26, 2020-04-1...</td>\n",
       "      <td>5</td>\n",
       "    </tr>\n",
       "  </tbody>\n",
       "</table>\n",
       "</div>"
      ],
      "text/plain": [
       "             author link_flair_text   \n",
       "0   the1andonlyjoja             NaN  \\\n",
       "94  the1andonlyjoja    Announcement   \n",
       "\n",
       "                                                 text     created   \n",
       "0   I am constantly seeing people asking about peo...  2020-03-14  \\\n",
       "94  A message from the mod team. We are ironing ou...  2020-03-19   \n",
       "\n",
       "                                          created_occ  created_occ_len  \n",
       "0   [2020-03-14, 2020-03-19, 2020-03-26, 2020-04-1...                5  \n",
       "94  [2020-03-14, 2020-03-19, 2020-03-26, 2020-04-1...                5  "
      ]
     },
     "execution_count": 92,
     "metadata": {},
     "output_type": "execute_result"
    }
   ],
   "source": [
    "df1['created_occ_len']=df1.created_occ.apply(lambda x: len(x))\n",
    "df1.head(2)"
   ]
  },
  {
   "cell_type": "code",
   "execution_count": 100,
   "metadata": {},
   "outputs": [
    {
     "name": "stdout",
     "output_type": "stream",
     "text": [
      "(60180, 6)\n"
     ]
    },
    {
     "data": {
      "text/plain": [
       "(4166, 6)"
      ]
     },
     "execution_count": 100,
     "metadata": {},
     "output_type": "execute_result"
    }
   ],
   "source": [
    "print(df1.shape)\n",
    "df1[df1.created_occ_len<1312].shape"
   ]
  },
  {
   "cell_type": "code",
   "execution_count": 102,
   "metadata": {},
   "outputs": [
    {
     "data": {
      "text/html": [
       "<div>\n",
       "<style scoped>\n",
       "    .dataframe tbody tr th:only-of-type {\n",
       "        vertical-align: middle;\n",
       "    }\n",
       "\n",
       "    .dataframe tbody tr th {\n",
       "        vertical-align: top;\n",
       "    }\n",
       "\n",
       "    .dataframe thead th {\n",
       "        text-align: right;\n",
       "    }\n",
       "</style>\n",
       "<table border=\"1\" class=\"dataframe\">\n",
       "  <thead>\n",
       "    <tr style=\"text-align: right;\">\n",
       "      <th></th>\n",
       "      <th>author</th>\n",
       "      <th>link_flair_text</th>\n",
       "      <th>text</th>\n",
       "      <th>created</th>\n",
       "      <th>created_occ</th>\n",
       "      <th>created_occ_len</th>\n",
       "    </tr>\n",
       "  </thead>\n",
       "  <tbody>\n",
       "    <tr>\n",
       "      <th>205</th>\n",
       "      <td>[deleted]</td>\n",
       "      <td>NaN</td>\n",
       "      <td>What’s my fault? I have mask on and people in ...</td>\n",
       "      <td>2020-03-19</td>\n",
       "      <td>[2020-03-19, 2020-03-23, 2020-03-25, 2020-03-2...</td>\n",
       "      <td>1312</td>\n",
       "    </tr>\n",
       "    <tr>\n",
       "      <th>36685</th>\n",
       "      <td>Cablab123</td>\n",
       "      <td>Tested Positive - Family</td>\n",
       "      <td>My son was exposed at school. I’m angry. First...</td>\n",
       "      <td>2021-02-14</td>\n",
       "      <td>[2021-02-14, 2021-02-15, 2021-02-15, 2021-02-1...</td>\n",
       "      <td>48</td>\n",
       "    </tr>\n",
       "    <tr>\n",
       "      <th>81909</th>\n",
       "      <td>juicylinaxo</td>\n",
       "      <td>Help - Medical</td>\n",
       "      <td>When does it get better? My timeline :( So her...</td>\n",
       "      <td>2022-07-09</td>\n",
       "      <td>[2022-07-09, 2022-07-11, 2022-07-12, 2022-07-1...</td>\n",
       "      <td>41</td>\n",
       "    </tr>\n",
       "    <tr>\n",
       "      <th>56634</th>\n",
       "      <td>Willing_Book_1203</td>\n",
       "      <td>Vaccine- tested positive</td>\n",
       "      <td>Tips on how to cope with a positive Covid resu...</td>\n",
       "      <td>2021-11-20</td>\n",
       "      <td>[2021-11-20, 2021-11-21, 2021-11-22, 2021-11-2...</td>\n",
       "      <td>40</td>\n",
       "    </tr>\n",
       "    <tr>\n",
       "      <th>641</th>\n",
       "      <td>Scorpion1386</td>\n",
       "      <td>Question-to those who tested positive</td>\n",
       "      <td>Heard someone who was 35 and no underlying hea...</td>\n",
       "      <td>2020-03-23</td>\n",
       "      <td>[2020-03-23, 2020-03-23, 2020-03-28, 2020-04-0...</td>\n",
       "      <td>38</td>\n",
       "    </tr>\n",
       "    <tr>\n",
       "      <th>6103</th>\n",
       "      <td>electrowiz64</td>\n",
       "      <td>Tested Positive - Me</td>\n",
       "      <td>Can coughing help the breathing? Friday May 22...</td>\n",
       "      <td>2020-05-31</td>\n",
       "      <td>[2020-05-31, 2020-06-06, 2020-06-16, 2020-06-2...</td>\n",
       "      <td>37</td>\n",
       "    </tr>\n",
       "    <tr>\n",
       "      <th>17784</th>\n",
       "      <td>LastTurnip7858</td>\n",
       "      <td>Presumed Positive - From Doctor</td>\n",
       "      <td>Stroke Can you have a stroke 6 days before Cov...</td>\n",
       "      <td>2020-10-03</td>\n",
       "      <td>[2020-10-03, 2020-10-04, 2020-10-04, 2020-10-0...</td>\n",
       "      <td>35</td>\n",
       "    </tr>\n",
       "    <tr>\n",
       "      <th>52368</th>\n",
       "      <td>Mysterious-Housing72</td>\n",
       "      <td>Tested Positive - Me</td>\n",
       "      <td>30m Covid positive day 6 just got regeneron I ...</td>\n",
       "      <td>2021-09-13</td>\n",
       "      <td>[2021-09-13, 2021-09-14, 2021-09-16, 2021-09-1...</td>\n",
       "      <td>34</td>\n",
       "    </tr>\n",
       "    <tr>\n",
       "      <th>50141</th>\n",
       "      <td>graynorv</td>\n",
       "      <td>Tested Positive - Me</td>\n",
       "      <td>Freaking out 24m overweight. So I just tested ...</td>\n",
       "      <td>2021-08-25</td>\n",
       "      <td>[2021-08-25, 2021-08-25, 2021-08-27, 2021-08-2...</td>\n",
       "      <td>34</td>\n",
       "    </tr>\n",
       "    <tr>\n",
       "      <th>6404</th>\n",
       "      <td>yojodavies</td>\n",
       "      <td>Tested Positive</td>\n",
       "      <td>My case I am a 19 year old female and my only ...</td>\n",
       "      <td>2020-06-05</td>\n",
       "      <td>[2020-06-05, 2020-06-05, 2020-06-06, 2020-06-0...</td>\n",
       "      <td>33</td>\n",
       "    </tr>\n",
       "  </tbody>\n",
       "</table>\n",
       "</div>"
      ],
      "text/plain": [
       "                     author                        link_flair_text   \n",
       "205               [deleted]                                    NaN  \\\n",
       "36685             Cablab123               Tested Positive - Family   \n",
       "81909           juicylinaxo                         Help - Medical   \n",
       "56634     Willing_Book_1203               Vaccine- tested positive   \n",
       "641            Scorpion1386  Question-to those who tested positive   \n",
       "6103           electrowiz64                   Tested Positive - Me   \n",
       "17784        LastTurnip7858        Presumed Positive - From Doctor   \n",
       "52368  Mysterious-Housing72                   Tested Positive - Me   \n",
       "50141              graynorv                   Tested Positive - Me   \n",
       "6404             yojodavies                        Tested Positive   \n",
       "\n",
       "                                                    text     created   \n",
       "205    What’s my fault? I have mask on and people in ...  2020-03-19  \\\n",
       "36685  My son was exposed at school. I’m angry. First...  2021-02-14   \n",
       "81909  When does it get better? My timeline :( So her...  2022-07-09   \n",
       "56634  Tips on how to cope with a positive Covid resu...  2021-11-20   \n",
       "641    Heard someone who was 35 and no underlying hea...  2020-03-23   \n",
       "6103   Can coughing help the breathing? Friday May 22...  2020-05-31   \n",
       "17784  Stroke Can you have a stroke 6 days before Cov...  2020-10-03   \n",
       "52368  30m Covid positive day 6 just got regeneron I ...  2021-09-13   \n",
       "50141  Freaking out 24m overweight. So I just tested ...  2021-08-25   \n",
       "6404   My case I am a 19 year old female and my only ...  2020-06-05   \n",
       "\n",
       "                                             created_occ  created_occ_len  \n",
       "205    [2020-03-19, 2020-03-23, 2020-03-25, 2020-03-2...             1312  \n",
       "36685  [2021-02-14, 2021-02-15, 2021-02-15, 2021-02-1...               48  \n",
       "81909  [2022-07-09, 2022-07-11, 2022-07-12, 2022-07-1...               41  \n",
       "56634  [2021-11-20, 2021-11-21, 2021-11-22, 2021-11-2...               40  \n",
       "641    [2020-03-23, 2020-03-23, 2020-03-28, 2020-04-0...               38  \n",
       "6103   [2020-05-31, 2020-06-06, 2020-06-16, 2020-06-2...               37  \n",
       "17784  [2020-10-03, 2020-10-04, 2020-10-04, 2020-10-0...               35  \n",
       "52368  [2021-09-13, 2021-09-14, 2021-09-16, 2021-09-1...               34  \n",
       "50141  [2021-08-25, 2021-08-25, 2021-08-27, 2021-08-2...               34  \n",
       "6404   [2020-06-05, 2020-06-05, 2020-06-06, 2020-06-0...               33  "
      ]
     },
     "execution_count": 102,
     "metadata": {},
     "output_type": "execute_result"
    }
   ],
   "source": [
    "df1=df1.drop_duplicates(subset=['author'])\n",
    "df1.sort_values('created_occ_len', ascending=False).head(10)"
   ]
  },
  {
   "cell_type": "code",
   "execution_count": null,
   "metadata": {},
   "outputs": [
    {
     "name": "stdout",
     "output_type": "stream",
     "text": [
      "author\n",
      "author_created_utc\n",
      "author_flair_background_color\n",
      "author_flair_css_class\n",
      "author_flair_richtext\n",
      "author_flair_template_id\n",
      "author_flair_text\n",
      "author_flair_text_color\n",
      "author_flair_type\n",
      "author_fullname\n",
      "author_patreon_flair\n",
      "author_premium\n",
      "author_cakeday\n"
     ]
    }
   ],
   "source": [
    "for i in df.columns.tolist():   \n",
    "    if 'author' in i:\n",
    "        print(i) "
   ]
  },
  {
   "cell_type": "code",
   "execution_count": null,
   "metadata": {},
   "outputs": [],
   "source": []
  },
  {
   "cell_type": "code",
   "execution_count": null,
   "metadata": {},
   "outputs": [],
   "source": []
  },
  {
   "cell_type": "code",
   "execution_count": null,
   "metadata": {},
   "outputs": [],
   "source": []
  },
  {
   "cell_type": "code",
   "execution_count": null,
   "metadata": {},
   "outputs": [],
   "source": []
  }
 ],
 "metadata": {
  "kernelspec": {
   "display_name": "Python 3 (ipykernel)",
   "language": "python",
   "name": "python3"
  },
  "language_info": {
   "codemirror_mode": {
    "name": "ipython",
    "version": 3
   },
   "file_extension": ".py",
   "mimetype": "text/x-python",
   "name": "python",
   "nbconvert_exporter": "python",
   "pygments_lexer": "ipython3",
   "version": "3.11.3"
  }
 },
 "nbformat": 4,
 "nbformat_minor": 2
}
